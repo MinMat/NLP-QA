{
 "cells": [
  {
   "cell_type": "code",
   "execution_count": 13,
   "metadata": {},
   "outputs": [],
   "source": [
    "#!/usr/bin/env python\n",
    "import csv\n",
    "import json\n",
    "import collections\n",
    "import os\n",
    "import glob\n",
    "import pandas as pd"
   ]
  },
  {
   "cell_type": "code",
   "execution_count": 51,
   "metadata": {},
   "outputs": [],
   "source": [
    "\n",
    "fpath = str(os.getcwd()) + '/Data/regents/'\n",
    "all_files = glob.glob(fpath + \"/*.tsv\")\n",
    "list_of_dfs = [pd.read_csv(file, sep='\\t') for file in all_files]\n"
   ]
  },
  {
   "cell_type": "code",
   "execution_count": null,
   "metadata": {},
   "outputs": [],
   "source": [
    "#filter_col = [col for col in df if col.startswith('foo')]"
   ]
  },
  {
   "cell_type": "code",
   "execution_count": 56,
   "metadata": {},
   "outputs": [
    {
     "name": "stdout",
     "output_type": "stream",
     "text": [
      "                 State change Environment Rate of change\n",
      "0  disappearance of rainwater     hot air         faster\n",
      "1  disappearance of rainwater    cool air         slower\n",
      "2  disappearance of rainwater    mild air         medium\n",
      "0  disappearance of rainwater     hot air         faster\n",
      "1  disappearance of rainwater    cool air         slower\n",
      "2  disappearance of rainwater    mild air         medium\n"
     ]
    }
   ],
   "source": [
    "#Collect the header items into a list and flatten the list\n",
    "header_List=[]\n",
    "for df in list_of_dfs:\n",
    "    header_List.append(df.columns.values) \n",
    "    flat_list = [item for sublist in header_List for item in sublist] \n",
    "    \n",
    "    #Select the df without header \n",
    "    df[df.columns.dropna()]\n",
    "    df2 = df.append(df)\n",
    "\n",
    "print(df2)\n",
    "\n",
    "\n",
    "def cleanData(df):\n",
    "    df.drop(['pop', 'gdpPercap', 'continent'], axis=1)"
   ]
  },
  {
   "cell_type": "code",
   "execution_count": 15,
   "metadata": {},
   "outputs": [],
   "source": [
    "# aliases\n",
    "OrderedDict = collections.OrderedDict\n",
    "src = '/home/ec2-user/SageMaker/MasterThesis/src_dataset'\n",
    "dst = '/home/ec2-user/SageMaker/MasterThesis/dst_dataset'"
   ]
  },
  {
   "cell_type": "code",
   "execution_count": null,
   "metadata": {},
   "outputs": [],
   "source": [
    "# Get the tsv files from the directory "
   ]
  },
  {
   "cell_type": "code",
   "execution_count": null,
   "metadata": {},
   "outputs": [],
   "source": []
  },
  {
   "cell_type": "code",
   "execution_count": null,
   "metadata": {},
   "outputs": [],
   "source": []
  },
  {
   "cell_type": "code",
   "execution_count": null,
   "metadata": {},
   "outputs": [],
   "source": []
  },
  {
   "cell_type": "code",
   "execution_count": null,
   "metadata": {},
   "outputs": [],
   "source": []
  },
  {
   "cell_type": "code",
   "execution_count": null,
   "metadata": {},
   "outputs": [],
   "source": []
  },
  {
   "cell_type": "code",
   "execution_count": null,
   "metadata": {},
   "outputs": [],
   "source": []
  },
  {
   "cell_type": "code",
   "execution_count": 19,
   "metadata": {},
   "outputs": [],
   "source": [
    "from pathlib import Path"
   ]
  },
  {
   "cell_type": "code",
   "execution_count": 72,
   "metadata": {},
   "outputs": [
    {
     "name": "stdout",
     "output_type": "stream",
     "text": [
      "[OrderedDict([('', 'period of night'), ('ORBITAL EVENT', 'summer solstice'), ('PERIOD OF DAYLIGHT', 'longest'), ('PERIOD OF NIGHT', 'shortest')]), OrderedDict([('', 'period of night'), ('ORBITAL EVENT', 'winter solstice'), ('PERIOD OF DAYLIGHT', 'shortest'), ('PERIOD OF NIGHT', 'longest')]), OrderedDict([('', 'period of night'), ('ORBITAL EVENT', 'spring equinox'), ('PERIOD OF DAYLIGHT', 'midrange'), ('PERIOD OF NIGHT', 'midrange')]), OrderedDict([('', 'period of night'), ('ORBITAL EVENT', 'fall equinox'), ('PERIOD OF DAYLIGHT', 'midrange'), ('PERIOD OF NIGHT', 'midrange')])]\n",
      "[OrderedDict([('', 'period of night'), ('ORBITAL EVENT', 'summer solstice'), ('PERIOD OF DAYLIGHT', 'longest'), ('PERIOD OF NIGHT', 'shortest')]), OrderedDict([('', 'period of night'), ('ORBITAL EVENT', 'winter solstice'), ('PERIOD OF DAYLIGHT', 'shortest'), ('PERIOD OF NIGHT', 'longest')]), OrderedDict([('', 'period of night'), ('ORBITAL EVENT', 'spring equinox'), ('PERIOD OF DAYLIGHT', 'midrange'), ('PERIOD OF NIGHT', 'midrange')]), OrderedDict([('', 'period of night'), ('ORBITAL EVENT', 'fall equinox'), ('PERIOD OF DAYLIGHT', 'midrange'), ('PERIOD OF NIGHT', 'midrange')])]\n",
      "/home/ec2-user/SageMaker/MasterThesis/dst_dataset.json\n"
     ]
    }
   ],
   "source": [
    "pathlist = Path(src).glob('**/*.tsv')\n",
    "\n",
    "def writeToJSONFile(path, data):\n",
    "    filePathNameWExt = path +'.json'\n",
    "    print(filePathNameWExt)\n",
    "    with open(filePathNameWExt, 'w') as fp:\n",
    "        json.dump(data, fp)\n",
    "        \n",
    "\n",
    "for path in pathlist:\n",
    "    # because path is object not string\n",
    "    path_in_str = str(path)\n",
    "    #print(path_in_str)\n",
    "    # header = []\n",
    "    data = []\n",
    "    with open(path_in_str, 'r') as tsvfile:\n",
    "        reader = csv.DictReader(tsvfile, dialect='excel-tab')\n",
    "        for row in reader:\n",
    "            data.append(OrderedDict(row))\n",
    "    print(data) \n",
    "\n",
    "writeToJSONFile(dst,data)\n",
    "    \n",
    "    \n",
    "    \n",
    "\n",
    "        \n",
    "        \n",
    "    #with open(dst, \"wb\") as f:\n",
    "    #    f.write(json.dumps(dict).encode(\"utf-8\"))\n",
    "    \n",
    "    #with open(dst, 'w') as jsonfile:\n",
    "    #    json.dump(data, jsonfile, indent=2)\n",
    "    \n",
    "   \n",
    "   # with open(path_in_str, 'r') as csvfile:\n",
    "   #      reader = csv.reader(csvfile, delimiter = ' ', quotechar='\"')\n",
    "   #     for row in reader:\n",
    "   #         print(row.strip())\n",
    "         #   if row[0].strip()[0] == '#':  #\n",
    "         #       continue\n",
    "         #   row = filter(None, row)\n",
    "         #   data.append(OrderedDict(zip(header, row)))\n",
    "\n"
   ]
  },
  {
   "cell_type": "code",
   "execution_count": null,
   "metadata": {},
   "outputs": [],
   "source": []
  }
 ],
 "metadata": {
  "kernelspec": {
   "display_name": "conda_python3",
   "language": "python",
   "name": "conda_python3"
  },
  "language_info": {
   "codemirror_mode": {
    "name": "ipython",
    "version": 3
   },
   "file_extension": ".py",
   "mimetype": "text/x-python",
   "name": "python",
   "nbconvert_exporter": "python",
   "pygments_lexer": "ipython3",
   "version": "3.6.5"
  }
 },
 "nbformat": 4,
 "nbformat_minor": 2
}
